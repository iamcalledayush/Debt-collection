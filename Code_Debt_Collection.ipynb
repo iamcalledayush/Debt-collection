{
  "cells": [
    {
      "cell_type": "code",
      "execution_count": null,
      "metadata": {
        "id": "HqlkZH-epoI6"
      },
      "outputs": [],
      "source": [
        "!pip install pymysql\n",
        "import pymysql\n",
        "import pandas as pd\n",
        "import numpy as np\n",
        "from google.colab import data_table"
      ]
    },
    {
      "cell_type": "code",
      "execution_count": null,
      "metadata": {
        "id": "0yoRu9-Cp0Li"
      },
      "outputs": [],
      "source": [
        "data_table.enable_dataframe_formatter()\n",
        "cnx = pymysql.connect(user='buspark', password='U@5p1r3!',\n",
        "                              host='masscourtsplus.org',\n",
        "                              database='wp_courtdocs')\n",
        "\n",
        "\n",
        "cursor = cnx.cursor()"
      ]
    },
    {
      "cell_type": "code",
      "execution_count": null,
      "metadata": {
        "id": "PCH_LIhCuGZ6"
      },
      "outputs": [],
      "source": [
        "from google.colab import files"
      ]
    },
    {
      "cell_type": "markdown",
      "metadata": {
        "id": "jsBfPeZEAhh5"
      },
      "source": [
        "# **Table Previews and Data Cleaning**"
      ]
    },
    {
      "cell_type": "markdown",
      "metadata": {
        "id": "uo99vNKTrvyZ"
      },
      "source": [
        "## **cdocs_case_action_index**"
      ]
    },
    {
      "cell_type": "code",
      "execution_count": null,
      "metadata": {
        "id": "02MJHi9LtgdJ"
      },
      "outputs": [],
      "source": [
        "query = \"\"\"\n",
        "SELECT *\n",
        "FROM cdocs_case_action_index\n",
        "LIMIT 100;\n",
        "\"\"\"\n",
        "df = pd.read_sql(query, cnx)\n",
        "\n",
        "# Display the DataFrame\n",
        "\n",
        "# Save the DataFrame to a CSV file\n",
        "df.to_csv(\"cdocs_case_action_index.csv\", index=False)\n",
        "files.download(\"cdocs_case_action_index.csv\")\n",
        "df"
      ]
    },
    {
      "cell_type": "code",
      "execution_count": null,
      "metadata": {
        "id": "1rlU5Tb2eb9n"
      },
      "outputs": [],
      "source": [
        "import pymysql\n",
        "import pandas as pd\n",
        "\n",
        "cnx = pymysql.connect(user='buspark', password='U@5p1r3!',\n",
        "                      host='masscourtsplus.org',\n",
        "                      database='wp_courtdocs')\n",
        "\n",
        "try:\n",
        "    with cnx.cursor() as cursor:\n",
        "        query = \"\"\"\n",
        "        SELECT case_id, action, description\n",
        "        FROM cdocs_case_action_index\n",
        "        WHERE description REGEXP '\\\\$?[0-9]{1,4}(,[0-9]{3})*(\\\\.00)?( dollars)?'\n",
        "        AND NOT (\n",
        "            description LIKE '%over %'\n",
        "            OR description LIKE '%more than %'\n",
        "        );\n",
        "        \"\"\"\n",
        "        cursor.execute(query)\n",
        "        results = cursor.fetchall()\n",
        "\n",
        "        # Convert the results into a DataFrame\n",
        "        df = pd.DataFrame(results, columns=['Case ID', 'Action', 'Description'])\n",
        "\n",
        "        # Display the DataFrame\n",
        "        print(df.head())\n",
        "finally:\n",
        "    cnx.close()"
      ]
    },
    {
      "cell_type": "code",
      "execution_count": null,
      "metadata": {
        "id": "WPjFhtO_ENAN"
      },
      "outputs": [],
      "source": [
        "import pymysql\n",
        "import pandas as pd\n",
        "\n",
        "cnx = pymysql.connect(user='buspark', password='U@5p1r3!',\n",
        "                      host='masscourtsplus.org',\n",
        "                      database='wp_courtdocs')\n",
        "\n",
        "try:\n",
        "    with cnx.cursor() as cursor:\n",
        "        query = \"\"\"\n",
        "        SELECT case_id, action\n",
        "        FROM cdocs_case_action_index\n",
        "        WHERE action LIKE '%wage garnish%'\n",
        "           OR action LIKE '%wages garnished%'\n",
        "           OR description LIKE '%wage garnish%'\n",
        "           OR description LIKE '%wages garnished%'\n",
        "           OR action LIKE '%garnishment%'\n",
        "           OR description LIKE '%garnishment%';\n",
        "        \"\"\"\n",
        "        cursor.execute(query)\n",
        "        # Fetching all matching rows\n",
        "        rows = cursor.fetchall()\n",
        "\n",
        "        # Converting to a DataFrame for easier viewing and analysis\n",
        "        df = pd.DataFrame(rows, columns=['Case ID', 'Action'])\n",
        "\n",
        "        # Displaying the DataFrame\n",
        "        print(df)\n",
        "\n",
        "finally:\n",
        "    cnx.close()"
      ]
    },
    {
      "cell_type": "code",
      "execution_count": null,
      "metadata": {
        "id": "Q551KI3YVc95"
      },
      "outputs": [],
      "source": [
        "import pymysql\n",
        "import pandas as pd\n",
        "import matplotlib.pyplot as plt\n",
        "\n",
        "cnx = pymysql.connect(user='buspark', password='U@5p1r3!',\n",
        "                      host='masscourtsplus.org',\n",
        "                      database='wp_courtdocs')\n",
        "try:\n",
        "    with cnx.cursor() as cursor:\n",
        "        # Query to count the total number of cases\n",
        "        total_query = \"SELECT COUNT(*) FROM cdocs_case_action_index\"\n",
        "        cursor.execute(total_query)\n",
        "        total_cases = cursor.fetchone()[0]\n",
        "finally:\n",
        "    cnx.close()\n",
        "\n",
        "wage_garnishment_cases = len(df)\n",
        "\n",
        "# Calculating the number of other cases\n",
        "other_cases = total_cases - wage_garnishment_cases\n",
        "\n",
        "# Data for plotting\n",
        "categories = ['Wage Garnishment Cases', 'Other Cases']\n",
        "values = [wage_garnishment_cases, other_cases]\n",
        "\n",
        "# Creating the bar plot\n",
        "plt.figure(figsize=(10, 6))\n",
        "plt.bar(categories, values, color=['skyblue', 'lightgreen'])\n",
        "plt.xlabel('Case Type', fontsize=14)\n",
        "plt.ylabel('Number of Cases', fontsize=14)\n",
        "plt.title('Comparison of Wage Garnishment Cases vs. All Other Cases', fontsize=16)\n",
        "plt.xticks(fontsize=12)\n",
        "plt.yticks(fontsize=12)\n",
        "\n",
        "# Adding value labels on top of each bar\n",
        "for i, value in enumerate(values):\n",
        "    plt.text(i, value, str(value), ha='center', va='bottom', fontsize=12)\n",
        "\n",
        "plt.tight_layout()\n",
        "plt.show()"
      ]
    },
    {
      "cell_type": "code",
      "execution_count": null,
      "metadata": {
        "id": "tydbF7wsG_Og"
      },
      "outputs": [],
      "source": [
        "import pymysql\n",
        "import pandas as pd\n",
        "\n",
        "cnx = pymysql.connect(user='buspark', password='U@5p1r3!',\n",
        "                      host='masscourtsplus.org',\n",
        "                      database='wp_courtdocs')\n",
        "\n",
        "try:\n",
        "    with cnx.cursor() as cursor:\n",
        "        # SQL query to find cases related to lifting wage garnishment\n",
        "        query = \"\"\"\n",
        "        SELECT case_id, action, description\n",
        "        FROM cdocs_case_action_index\n",
        "        WHERE (action LIKE '%lifting wage garnish%' OR description LIKE '%lifting wage garnish%')\n",
        "           OR (action LIKE '%garnishment lifted%' OR description LIKE '%garnishment lifted%')\n",
        "           OR (action LIKE '%release of garnishment%' OR description LIKE '%release of garnishment%');\n",
        "        \"\"\"\n",
        "        cursor.execute(query)\n",
        "        # Fetching all matching rows\n",
        "        rows = cursor.fetchall()\n",
        "\n",
        "        # Converting results to a DataFrame\n",
        "        df = pd.DataFrame(rows, columns=['Case ID', 'Action', 'Description'])\n",
        "\n",
        "        # Display the DataFrame\n",
        "        print(df)\n",
        "\n",
        "finally:\n",
        "    cnx.close()"
      ]
    },
    {
      "cell_type": "code",
      "execution_count": null,
      "metadata": {
        "id": "f6q1T8DqKCC_"
      },
      "outputs": [],
      "source": [
        "import pymysql\n",
        "import pandas as pd\n",
        "\n",
        "cnx = pymysql.connect(user='buspark', password='U@5p1r3!',\n",
        "                      host='masscourtsplus.org',\n",
        "                      database='wp_courtdocs')\n",
        "\n",
        "try:\n",
        "    with cnx.cursor() as cursor:\n",
        "        # Your SQL query\n",
        "        query = \"\"\"\n",
        "        SELECT case_id, action, description\n",
        "        FROM cdocs_case_action_index\n",
        "        WHERE action LIKE '%capias%'\n",
        "           OR action LIKE '%warrant%'\n",
        "           OR description LIKE '%capias%'\n",
        "           OR description LIKE '%warrant%';\n",
        "        \"\"\"\n",
        "        cursor.execute(query)\n",
        "        results = cursor.fetchall()\n",
        "\n",
        "        # Convert the results into a DataFrame for easier analysis\n",
        "        df = pd.DataFrame(results, columns=['Case ID', 'Action', 'Description'])\n",
        "\n",
        "        # Display the first few rows of the DataFrame to verify\n",
        "        print(df.head())\n",
        "finally:\n",
        "    cnx.close()"
      ]
    },
    {
      "cell_type": "code",
      "execution_count": null,
      "metadata": {
        "colab": {
          "background_save": true
        },
        "id": "wOHlcdNnMYC8",
        "outputId": "c80949b3-b84d-460c-8285-4ada876d13e8"
      },
      "outputs": [
        {
          "name": "stdout",
          "output_type": "stream",
          "text": [
            "Total cases involving capias warrants: 2337075\n"
          ]
        }
      ],
      "source": [
        "import pymysql\n",
        "\n",
        "cnx = pymysql.connect(user='buspark', password='U@5p1r3!',\n",
        "                      host='masscourtsplus.org',\n",
        "                      database='wp_courtdocs')\n",
        "\n",
        "try:\n",
        "    with cnx.cursor() as cursor:\n",
        "        # SQL query to count matches\n",
        "        query = \"\"\"\n",
        "        SELECT COUNT(*)\n",
        "        FROM cdocs_case_action_index\n",
        "        WHERE action LIKE '%capias%'\n",
        "           OR action LIKE '%warrant%'\n",
        "           OR description LIKE '%capias%'\n",
        "           OR description LIKE '%warrant%';\n",
        "        \"\"\"\n",
        "        cursor.execute(query)\n",
        "        count = cursor.fetchone()[0]  # Fetches the count\n",
        "        # Print the total count of matching cases\n",
        "        print(f\"Total cases involving capias warrants: {count}\")\n",
        "finally:\n",
        "    cnx.close()\n",
        "\n"
      ]
    },
    {
      "cell_type": "code",
      "execution_count": null,
      "metadata": {
        "colab": {
          "background_save": true
        },
        "id": "BuiKpERHOa0V",
        "outputId": "70985286-bb54-44c3-dd2c-4ff0c1456426"
      },
      "outputs": [
        {
          "name": "stdout",
          "output_type": "stream",
          "text": [
            "        Case ID                   Action  \\\n",
            "0        534550  Debtor before the court   \n",
            "1       2464663  Debtor before the court   \n",
            "2       2543203                            \n",
            "3       2546571                            \n",
            "4       4856075  Debtor before the court   \n",
            "...         ...                      ...   \n",
            "4600   87185959                            \n",
            "4601  100082132                            \n",
            "4602  100599248                            \n",
            "4603  102432996                            \n",
            "4604  102432996                            \n",
            "\n",
            "                                            Description  \n",
            "0     Misc Entry: Judgment debtor before the court o...  \n",
            "1     Judgment debtor before the court on capias.\\n\\...  \n",
            "2     Notice sent to parties.\\n\\n\\n\\nPAYMENT REVIEW ...  \n",
            "3     Notice sent to parties.\\n\\n\\n\\nPR 8/23/13 AT 1...  \n",
            "4     Judgment debtor before the court on capias.\\nb...  \n",
            "...                                                 ...  \n",
            "4600  Defendant Brought into Court. Warrant Recalled...  \n",
            "4601  Event Result:: Deft brought into Court NOTE* I...  \n",
            "4602  Event Result: The following event: Hearing for...  \n",
            "4603  Defendant released back on probation to go to ...  \n",
            "4604  Event Result::  Hearing for Warrant Removal sc...  \n",
            "\n",
            "[4605 rows x 3 columns]\n"
          ]
        }
      ],
      "source": [
        "cnx = pymysql.connect(user='buspark', password='U@5p1r3!',\n",
        "                      host='masscourtsplus.org',\n",
        "                      database='wp_courtdocs')\n",
        "\n",
        "try:\n",
        "    with cnx.cursor() as cursor:\n",
        "        # SQL query to find cases with capias warrants removed or lifted\n",
        "        query = \"\"\"\n",
        "        SELECT case_id, action, description\n",
        "        FROM cdocs_case_action_index\n",
        "        WHERE action LIKE '%capias removed%'\n",
        "           OR action LIKE '%capias lifted%'\n",
        "           OR description LIKE '%capias removed%'\n",
        "           OR description LIKE '%capias lifted%'\n",
        "           OR action LIKE '%warrant lifted%'\n",
        "           OR description LIKE '%warrant lifted%'\n",
        "           OR action LIKE '%warrant removal%'\n",
        "           OR description LIKE '%warrant removal%';\n",
        "        \"\"\"\n",
        "        cursor.execute(query)\n",
        "        results = cursor.fetchall()\n",
        "\n",
        "        # Convert the results into a DataFrame for easier analysis\n",
        "        df = pd.DataFrame(results, columns=['Case ID', 'Action', 'Description'])\n",
        "\n",
        "        # Display the DataFrame\n",
        "        print(df)\n",
        "finally:\n",
        "    cnx.close()\n"
      ]
    },
    {
      "cell_type": "code",
      "execution_count": null,
      "metadata": {
        "id": "V_E6kg6cSsMa"
      },
      "outputs": [],
      "source": [
        "import pymysql\n",
        "import matplotlib.pyplot as plt\n",
        "\n",
        "total_cases = 0\n",
        "capias_cases = 0\n",
        "\n",
        "try:\n",
        "    cnx = pymysql.connect(user='buspark', password='U@5p1r3!',\n",
        "                      host='masscourtsplus.org',\n",
        "                      database='wp_courtdocs')\n",
        "\n",
        "\n",
        "    with cnx.cursor() as cursor:\n",
        "        # Fetch total number of cases\n",
        "        cursor.execute(\"SELECT COUNT(*) FROM cdocs_case_action_index\")\n",
        "        total_cases = cursor.fetchone()[0]\n",
        "\n",
        "        # Fetch number of capias cases\n",
        "        cursor.execute(\"\"\"\n",
        "            SELECT COUNT(*)\n",
        "            FROM cdocs_case_action_index\n",
        "            WHERE action LIKE '%capias%' OR description LIKE '%capias%'\n",
        "        \"\"\")\n",
        "        capias_cases = cursor.fetchone()[0]\n",
        "\n",
        "except pymysql.MySQLError as e:\n",
        "    print(f\"Error fetching data: {e}\")\n",
        "finally:\n",
        "    cnx.close() if 'cnx' in locals() else None\n",
        "\n",
        "if total_cases > 0 and capias_cases >= 0:\n",
        "    # Calculating the number of non-capias cases\n",
        "    non_capias_cases = total_cases - capias_cases\n",
        "\n",
        "    # Plotting\n",
        "    categories = ['Capias Cases', 'Other Cases']\n",
        "    values = [capias_cases, non_capias_cases]\n",
        "\n",
        "    plt.figure(figsize=(10, 6))\n",
        "    plt.bar(categories, values, color=['skyblue', 'lightgreen'])\n",
        "    plt.xlabel('Case Type', fontsize=14)\n",
        "    plt.ylabel('Number of Cases', fontsize=14)\n",
        "    plt.title('Comparison of Capias Cases vs. All Other Cases', fontsize=16)\n",
        "\n",
        "    for i, value in enumerate(values):\n",
        "        plt.text(i, value, str(value), ha='center', va='bottom')\n",
        "\n",
        "    plt.tight_layout()\n",
        "    plt.show()\n",
        "else:\n",
        "    print(\"Data not available or error in data fetching.\")\n"
      ]
    },
    {
      "cell_type": "markdown",
      "metadata": {
        "id": "_Ce2BDflsD0D"
      },
      "source": [
        "## **cdocs_case_meta_index**"
      ]
    },
    {
      "cell_type": "code",
      "execution_count": null,
      "metadata": {
        "id": "D6l7m5cOto0M"
      },
      "outputs": [],
      "source": [
        "query = \"\"\"\n",
        "SELECT *\n",
        "FROM cdocs_case_meta_index\n",
        "\n",
        "\"\"\"\n",
        "case_meta_df = pd.read_sql(query, cnx)\n",
        "\n",
        "# Display the DataFrame\n",
        "\n",
        "# Save the DataFrame to a CSV file\n",
        "# df.to_csv(\"cdocs_case_meta_index.csv\", index=False)\n",
        "#files.download(\"cdocs_case_meta_index.csv\")\n",
        "case_meta_df"
      ]
    },
    {
      "cell_type": "code",
      "execution_count": null,
      "metadata": {
        "colab": {
          "background_save": true
        },
        "id": "KcZN64Y_9SS2"
      },
      "outputs": [],
      "source": [
        "import pymysql\n",
        "\n",
        "cnx = pymysql.connect(user='buspark', password='U@5p1r3!',\n",
        "                      host='masscourtsplus.org',\n",
        "                      database='wp_courtdocs')\n",
        "\n",
        "try:\n",
        "    with cnx.cursor() as cursor:\n",
        "        # SQL query to count \"small claims\"\n",
        "        query = \"\"\"\n",
        "        SELECT COUNT(*)\n",
        "        FROM cdocs_case_meta_index\n",
        "        WHERE case_type LIKE '%small claims%';\n",
        "        \"\"\"\n",
        "        cursor.execute(query)\n",
        "\n",
        "        # Fetching the result\n",
        "        count = cursor.fetchone()[0]  # Fetches the first row of the results which is the count\n",
        "\n",
        "        # Displaying the number of \"small claims\" cases\n",
        "        print(f\"Number of 'small claims' cases: {count}\")\n",
        "\n",
        "finally:\n",
        "    cnx.close()"
      ]
    },
    {
      "cell_type": "code",
      "execution_count": null,
      "metadata": {
        "colab": {
          "background_save": true
        },
        "id": "gc3XpoDub9dc"
      },
      "outputs": [],
      "source": [
        "missing_values = df.isnull().sum()\n",
        "print(\"Missing values in each column:\\n\", missing_values)"
      ]
    },
    {
      "cell_type": "code",
      "execution_count": null,
      "metadata": {
        "colab": {
          "background_save": true
        },
        "id": "qRXImWYPcB_5"
      },
      "outputs": [],
      "source": [
        "duplicate_rows = df.duplicated().sum()\n",
        "print(\"Number of duplicate rows:\", duplicate_rows)"
      ]
    },
    {
      "cell_type": "code",
      "execution_count": null,
      "metadata": {
        "colab": {
          "background_save": true
        },
        "id": "zQ5mUr7EcEPc"
      },
      "outputs": [],
      "source": [
        "data_types = df.dtypes\n",
        "unique_values = df.nunique()\n",
        "\n",
        "print(\"Data Types:\\n\", data_types)\n",
        "print(\"Unique Values in each column:\\n\", unique_values)\n"
      ]
    },
    {
      "cell_type": "markdown",
      "metadata": {
        "id": "yoIcz0GqsMJi"
      },
      "source": [
        "## **cdocs_party_assignment_index**"
      ]
    },
    {
      "cell_type": "code",
      "execution_count": null,
      "metadata": {
        "colab": {
          "background_save": true
        },
        "id": "H3LhAwYBuqOz"
      },
      "outputs": [],
      "source": [
        "query = \"\"\"\n",
        "SELECT *\n",
        "FROM cdocs_party_assignment_index\n",
        "\"\"\"\n",
        "party_assignment_df = pd.read_sql(query, cnx)\n",
        "\n",
        "# Display the DataFrame\n",
        "\n",
        "# Save the DataFrame to a CSV file\n",
        "# df.to_csv(\"cdocs_party_assignment_index.csv\", index=False)\n",
        "# files.download(\"cdocs_party_assignment_index.csv\")\n",
        "party_assignment_df"
      ]
    },
    {
      "cell_type": "code",
      "execution_count": null,
      "metadata": {
        "colab": {
          "background_save": true
        },
        "id": "mCWVUxh__E3i"
      },
      "outputs": [],
      "source": [
        "import pymysql\n",
        "\n",
        "cnx = pymysql.connect(user='buspark', password='U@5p1r3!',\n",
        "                      host='masscourtsplus.org',\n",
        "                      database='wp_courtdocs')\n",
        "\n",
        "try:\n",
        "    with cnx.cursor() as cursor:\n",
        "        # Executing the join query\n",
        "        query = \"\"\"\n",
        "        SELECT COUNT(DISTINCT cdocs_case_meta_index.post_id) AS debt_collector_cases\n",
        "        FROM cdocs_case_meta_index\n",
        "        JOIN cdocs_party_assignment_index ON cdocs_case_meta_index.post_id = cdocs_party_assignment_index.case_id\n",
        "        WHERE cdocs_case_meta_index.case_type IN ('small claims', 'district court')\n",
        "        AND cdocs_party_assignment_index.party_type LIKE '%plaintiff%';\n",
        "        \"\"\"\n",
        "        cursor.execute(query)\n",
        "        # Fetching the count\n",
        "        debt_collector_cases = cursor.fetchone()[0]\n",
        "\n",
        "        # Display the count of debt collector cases\n",
        "        print(f\"Number of debt collector cases in small claims and district courts: {debt_collector_cases}\")\n",
        "\n",
        "finally:\n",
        "    cnx.close()"
      ]
    },
    {
      "cell_type": "code",
      "execution_count": null,
      "metadata": {
        "colab": {
          "background_save": true
        },
        "id": "EbHbNNWwCx7G"
      },
      "outputs": [],
      "source": [
        "import matplotlib.pyplot as plt\n",
        "\n",
        "debt_collector_cases = 500\n",
        "\n",
        "# Data for plotting\n",
        "courts = ['Small Claims & District Courts']\n",
        "cases = [debt_collector_cases]\n",
        "\n",
        "# Creating the bar plot\n",
        "plt.figure(figsize=(10, 6))\n",
        "plt.bar(courts, cases, color='skyblue')\n",
        "plt.xlabel('Court Type', fontsize=14)\n",
        "plt.ylabel('Number of Cases', fontsize=14)\n",
        "plt.title('Number of Debt Collector Cases in Small Claims & District Courts', fontsize=16)\n",
        "plt.ylim(0, max(cases) + 100)  # Adjust Y-axis to make room for annotation\n",
        "\n",
        "# Adding a text label above the bar\n",
        "plt.text(courts[0], cases[0] + 50, str(cases[0]), ha='center', va='bottom', fontsize=12)\n",
        "\n",
        "# Display the plot\n",
        "plt.tight_layout()\n",
        "plt.show()"
      ]
    },
    {
      "cell_type": "code",
      "execution_count": null,
      "metadata": {
        "colab": {
          "background_save": true
        },
        "id": "tq5EVQSTeHRc"
      },
      "outputs": [],
      "source": [
        "missing_values = df.isnull().sum()\n",
        "print(\"Missing values in each column:\\n\", missing_values)"
      ]
    },
    {
      "cell_type": "code",
      "execution_count": null,
      "metadata": {
        "colab": {
          "background_save": true
        },
        "id": "YoKOfAadej3f"
      },
      "outputs": [],
      "source": [
        "data_types = df.dtypes\n",
        "unique_values = df.nunique()\n",
        "\n",
        "print(\"Data Types:\\n\", data_types)\n",
        "print(\"Unique Values in each column:\\n\", unique_values)\n"
      ]
    },
    {
      "cell_type": "markdown",
      "metadata": {
        "id": "1M9EB8sWsQVt"
      },
      "source": [
        "## **cdocs_party_index**"
      ]
    },
    {
      "cell_type": "code",
      "execution_count": null,
      "metadata": {
        "colab": {
          "background_save": true
        },
        "id": "SvJs4aRyu2MR"
      },
      "outputs": [],
      "source": [
        "query = \"\"\"\n",
        "SELECT *\n",
        "FROM cdocs_party_index\n",
        "\n",
        "\"\"\"\n",
        "party_index_df = pd.read_sql(query, cnx)\n",
        "\n",
        "# Display the DataFrame\n",
        "\n",
        "# Save the DataFrame to a CSV file\n",
        "# df.to_csv(\"cdocs_party_index.csv\", index=False)\n",
        "#files.download(\"cdocs_party_index.csv\")\n",
        "party_index_df"
      ]
    },
    {
      "cell_type": "code",
      "execution_count": null,
      "metadata": {
        "colab": {
          "background_save": true
        },
        "id": "2tym-nuygEeI"
      },
      "outputs": [],
      "source": [
        "missing_values = df.isnull().sum()\n",
        "print(\"Missing values in each column:\\n\", missing_values)"
      ]
    },
    {
      "cell_type": "code",
      "execution_count": null,
      "metadata": {
        "colab": {
          "background_save": true
        },
        "id": "tsn-Jr5KgFtd"
      },
      "outputs": [],
      "source": [
        "duplicate_rows = df.duplicated().sum()\n",
        "print(\"Number of duplicate rows:\", duplicate_rows)"
      ]
    },
    {
      "cell_type": "code",
      "execution_count": null,
      "metadata": {
        "colab": {
          "background_save": true
        },
        "id": "HNdeWntJgVuC"
      },
      "outputs": [],
      "source": [
        "data_types = df.dtypes\n",
        "unique_values = df.nunique()\n",
        "\n",
        "print(\"Data Types:\\n\", data_types)\n",
        "print(\"Unique Values in each column:\\n\", unique_values)\n"
      ]
    },
    {
      "cell_type": "markdown",
      "metadata": {
        "id": "mVP1lIR5sT4V"
      },
      "source": [
        "## **wp_terms**"
      ]
    },
    {
      "cell_type": "code",
      "execution_count": null,
      "metadata": {
        "colab": {
          "background_save": true
        },
        "id": "x-FufkP7wwId"
      },
      "outputs": [],
      "source": [
        "query = \"\"\"\n",
        "SELECT *\n",
        "FROM wp_terms\n",
        "\"\"\"\n",
        "df = pd.read_sql(query, cnx)\n",
        "\n",
        "# Display the DataFrame\n",
        "\n",
        "# Save the DataFrame to a CSV file\n",
        "# df.to_csv(\"wp_terms.csv\", index=False)\n",
        "# files.download(\"wp_terms.csv\")\n",
        "df"
      ]
    },
    {
      "cell_type": "markdown",
      "metadata": {
        "id": "Gz1b9d0eseLJ"
      },
      "source": [
        "## **wp_term_taxonomy**"
      ]
    },
    {
      "cell_type": "code",
      "execution_count": null,
      "metadata": {
        "colab": {
          "background_save": true
        },
        "id": "lLQ_bpzy8pnD"
      },
      "outputs": [],
      "source": [
        "query = \"\"\"\n",
        "SELECT *\n",
        "FROM wp_term_taxonomy\n",
        "\"\"\"\n",
        "df = pd.read_sql(query, cnx)\n",
        "\n",
        "# Display the DataFrame\n",
        "\n",
        "# Save the DataFrame to a CSV file\n",
        "# df.to_csv(\"wp_term_taxonomy.csv\", index=False)\n",
        "# files.download(\"wp_term_taxonomy.csv\")\n",
        "df"
      ]
    },
    {
      "cell_type": "markdown",
      "metadata": {
        "id": "6sghIHCTshB8"
      },
      "source": [
        "## **wp_posts**"
      ]
    },
    {
      "cell_type": "code",
      "execution_count": null,
      "metadata": {
        "colab": {
          "background_save": true
        },
        "id": "-FiWCqTSPZnk"
      },
      "outputs": [],
      "source": [
        "query = \"\"\"\n",
        "SELECT *\n",
        "FROM wp_posts\n",
        "limit 100\n",
        "\"\"\"\n",
        "df = pd.read_sql(query, cnx)\n",
        "\n",
        "# Display the DataFrame\n",
        "\n",
        "# Save the DataFrame to a CSV file\n",
        "# df.to_csv(\"wp_posts.csv\", index=False)\n",
        "# files.download(\"wp_posts.csv\")\n",
        "df"
      ]
    },
    {
      "cell_type": "markdown",
      "metadata": {
        "id": "cKSKrAXS80vZ"
      },
      "source": [
        "# **Table Descriptions**"
      ]
    },
    {
      "cell_type": "code",
      "execution_count": null,
      "metadata": {
        "colab": {
          "background_save": true
        },
        "id": "VavR11nr870O"
      },
      "outputs": [],
      "source": [
        "query = \"\"\"\n",
        "DESCRIBE cdocs_case_action_index\n",
        "\"\"\"\n",
        "\n",
        "# Execute the query\n",
        "cursor.execute(query)\n",
        "\n",
        "# Fetch the results\n",
        "results = cursor.fetchall()\n",
        "results"
      ]
    },
    {
      "cell_type": "code",
      "execution_count": null,
      "metadata": {
        "colab": {
          "background_save": true
        },
        "id": "0OVFpPGI9BPd"
      },
      "outputs": [],
      "source": [
        "query = \"\"\"\n",
        "DESCRIBE cdocs_case_meta_index\n",
        "\"\"\"\n",
        "\n",
        "# Execute the query\n",
        "cursor.execute(query)\n",
        "\n",
        "# Fetch the results\n",
        "results = cursor.fetchall()\n",
        "results"
      ]
    },
    {
      "cell_type": "code",
      "execution_count": null,
      "metadata": {
        "colab": {
          "background_save": true
        },
        "id": "DBsbXmNg9KLD"
      },
      "outputs": [],
      "source": [
        "query = \"\"\"\n",
        "DESCRIBE cdocs_party_assignment_index\n",
        "\"\"\"\n",
        "\n",
        "# Execute the query\n",
        "cursor.execute(query)\n",
        "\n",
        "# Fetch the results\n",
        "results = cursor.fetchall()\n",
        "results"
      ]
    },
    {
      "cell_type": "code",
      "execution_count": null,
      "metadata": {
        "colab": {
          "background_save": true
        },
        "id": "gCrB981-9PAv"
      },
      "outputs": [],
      "source": [
        "query = \"\"\"\n",
        "DESCRIBE cdocs_party_index\n",
        "\"\"\"\n",
        "\n",
        "# Execute the query\n",
        "cursor.execute(query)\n",
        "\n",
        "# Fetch the results\n",
        "results = cursor.fetchall()\n",
        "results"
      ]
    },
    {
      "cell_type": "code",
      "execution_count": null,
      "metadata": {
        "colab": {
          "background_save": true
        },
        "id": "WFWYsrnk9TSV"
      },
      "outputs": [],
      "source": [
        "query = \"\"\"\n",
        "DESCRIBE wp_terms\n",
        "\"\"\"\n",
        "\n",
        "# Execute the query\n",
        "cursor.execute(query)\n",
        "\n",
        "# Fetch the results\n",
        "results = cursor.fetchall()\n",
        "results"
      ]
    },
    {
      "cell_type": "code",
      "execution_count": null,
      "metadata": {
        "colab": {
          "background_save": true
        },
        "id": "9lXWa2VY9XiS"
      },
      "outputs": [],
      "source": [
        "query = \"\"\"\n",
        "DESCRIBE wp_term_taxonomy\n",
        "\"\"\"\n",
        "\n",
        "# Execute the query\n",
        "cursor.execute(query)\n",
        "\n",
        "# Fetch the results\n",
        "results = cursor.fetchall()\n",
        "results"
      ]
    },
    {
      "cell_type": "code",
      "execution_count": null,
      "metadata": {
        "colab": {
          "background_save": true
        },
        "id": "Uht_-QjAPsh7"
      },
      "outputs": [],
      "source": [
        "query = \"\"\"\n",
        "DESCRIBE wp_posts\n",
        "\"\"\"\n",
        "\n",
        "# Execute the query\n",
        "cursor.execute(query)\n",
        "\n",
        "# Fetch the results\n",
        "results = cursor.fetchall()\n",
        "results"
      ]
    },
    {
      "cell_type": "markdown",
      "metadata": {
        "id": "V95NqcTt_fKl"
      },
      "source": [
        "# **Table Explanations**"
      ]
    },
    {
      "cell_type": "markdown",
      "metadata": {
        "id": "cyI5GuA8_nLY"
      },
      "source": [
        "## **cdocs_case_action_index**\n",
        "\n",
        "This table records specific actions taken within legal cases.\n",
        "\n",
        "**case_action_id**: A unique identifier for each action taken within a case.\n",
        "\n",
        "**case_id**: The identifier for the case to which the action belongs.\n",
        "\n",
        "**actor**: The entity that performed the action (e.g., Plaintiff, Court).\n",
        "\n",
        "**action**: The type of action taken (e.g., Application filed, Appearance filed, Event scheduled).\n",
        "\n",
        "**description**: A detailed description of the action, including relevant dates and parties involved.\n",
        "\n",
        "**date_time**: The date (and possibly the time) when the action was taken.\n",
        "\n",
        "**file_reference_number**: A reference number associated with the action, which could potentially be used for internal tracking or referencing specific documents.\n",
        "\n",
        "**last_indexed**: The last date and time when the action was indexed or updated in the system.\n",
        "\n",
        "The table provides a chronological record of actions taken within specific legal cases, detailing who did what and when. This information can be used to track the progress of a case, understand the actions of involved parties, and maintain a detailed record for legal or administrative purposes."
      ]
    },
    {
      "cell_type": "markdown",
      "metadata": {
        "id": "W9tFSetAAJx3"
      },
      "source": [
        "## **cdocs_case_meta_index**\n",
        "\n",
        "This table contains metadata about various legal cases.\n",
        "\n",
        "**post_id**: Serves as the unique identifier for each case entry.\n",
        "\n",
        "**case_number**: Provides a unique number or identifier for each case.\n",
        "\n",
        "**case_type**: Indicates the type of case, such as \"Supplementary Process\" or \"Small Claims\".\n",
        "\n",
        "**case_status**: Shows the current status of each case, with entries like \"Disposed (Statistical Purposes)\".\n",
        "\n",
        "**file_date and status_date**: Represent the filing date and the date of the last status change, respectively, formatted as integers (likely YYYYMMDD).\n",
        "\n",
        "**judge_1_id to judge_5_id**: Contains IDs for up to five judges associated with each case, though in the sample data, these fields are populated with zeros, indicating no specific judge assignment or involvement is recorded.\n",
        "\n",
        "**court_term_id**: Identifies the court term related to each case, with a numeric ID.\n",
        "\n",
        "**last_indexed**: Indicates the last time the case entry was updated or indexed, with a precise timestamp.\n",
        "\n",
        "This table is designed to track and manage case information over time, providing a structured overview of case specifics, including type, status, associated judicial officers, and key dates."
      ]
    },
    {
      "cell_type": "markdown",
      "metadata": {
        "id": "Hoa2V3ZvDE40"
      },
      "source": [
        "## **cdocs_party_assignment_index**\n",
        "\n",
        "This table contains information on the assignment of parties and their attorneys to legal cases.\n",
        "\n",
        "**party_assignment_id**: Unique identifier for each record of a party being assigned to a case.\n",
        "\n",
        "**party_id**: Identifier for the party involved in the case.\n",
        "\n",
        "**party_type**: The role of the party in the case (e.g., Plaintiff, Defendant).\n",
        "\n",
        "**attorney_id**: Identifier for the attorney representing the party; a value of 0 may indicate no attorney assigned.\n",
        "\n",
        "**case_id**: Identifier for the legal case to which the party is assigned.\n",
        "\n",
        "**court_term_id**: Identifier for the court term during which the case is being heard.\n",
        "\n",
        "**last_indexed**: The last time the record was updated or indexed, indicating recent changes or the addition of information.\n",
        "\n",
        "This table facilitates tracking of who is involved in each case, their role, whether they have legal representation, and the context within which their case is being heard (e.g., specific court terms)."
      ]
    },
    {
      "cell_type": "markdown",
      "metadata": {
        "id": "BFiGJiHtDg4G"
      },
      "source": [
        "## **cdocs_party_index**\n",
        "\n",
        "This table contains records of parties involved in legal cases.\n",
        "\n",
        "**post_id**: Unique identifier for each record, auto-incremented.\n",
        "\n",
        "**party_name**: The name of the party involved, which may not always be provided.\n",
        "\n",
        "**party_initials**: Initials of the party, with many entries appearing to be null in this sample.\n",
        "\n",
        "**is_available_in_search**: Indicates whether the party's information is searchable, with all shown entries being searchable (1).\n",
        "\n",
        "**last_indexed**: The timestamp of the last update or indexing of the record.\n",
        "\n",
        "This table catalogs parties in a way that makes them accessible for search, potentially for internal case management or public record search functionalities."
      ]
    },
    {
      "cell_type": "markdown",
      "metadata": {
        "id": "Hoa5lsJTElCF"
      },
      "source": [
        "## **wp_terms**\n",
        "\n",
        "This table stores the term data which are likely used for categorization or taxonomy purposes.\n",
        "\n",
        "**term_id**: An auto-incremented unique identifier for each term.\n",
        "\n",
        "**name**: The name of the term.\n",
        "\n",
        "**slug**: A URL-friendly version of the term name, typically lowercase and with spaces replaced by hyphens.\n",
        "\n",
        "**term_group**: A numeric value (defaulting to 0) that could be used to group terms together for specific functionalities or categorizations."
      ]
    },
    {
      "cell_type": "markdown",
      "metadata": {
        "id": "YXNJ0oVmFsuu"
      },
      "source": [
        "## **wp_term_taxonomy**\n",
        "\n",
        "This table contains taxonomy information for terms.\n",
        "\n",
        "**term_taxonomy_id**: Unique identifier for each taxonomy entry, automatically incremented.\n",
        "\n",
        "**term_id**: References the term this taxonomy entry is associated with.\n",
        "taxonomy: Indicates the type of taxonomy, such as category or court in this dataset.\n",
        "\n",
        "**description**: A field for a textual description of the taxonomy.\n",
        "\n",
        "**parent**: The term_id of a parent term for hierarchical relationships, with 0 indicating a top-level term.\n",
        "\n",
        "**count**: Reflects the number of items associated with this term in the taxonomy."
      ]
    },
    {
      "cell_type": "markdown",
      "metadata": {
        "id": "QTr8ymIiQZUl"
      },
      "source": [
        "## **wp_posts**\n",
        "\n",
        "This table serves as a central hub linking various aspects of the legal case management system to WordPress's flexible content management system.\n",
        "\n",
        "ID: Auto-incremented unique identifier for each post.\n",
        "\n",
        "post_author: Identifier for the user who authored the post.\n",
        "\n",
        "post_date and post_date_gmt: The local and GMT date and time of the post creation.\n",
        "\n",
        "post_content: The main content of the post.\n",
        "\n",
        "post_title: The title of the post.\n",
        "\n",
        "post_excerpt: A short excerpt or summary of the post.\n",
        "\n",
        "post_status: The current status of the post (e.g., publish, draft).\n",
        "\n",
        "comment_status and ping_status: Statuses for comment and pingback/trackback availability.\n",
        "\n",
        "post_password: Password for protecting the post.\n",
        "\n",
        "post_name: A sanitized version of the post title used in URLs.\n",
        "\n",
        "to_ping and pinged: Lists of URLs to ping or that have been pinged.\n",
        "\n",
        "post_modified and post_modified_gmt: The last modified date and time of the post, in local and GMT.\n",
        "\n",
        "post_content_filtered: Filtered content of the post, if any.\n",
        "\n",
        "post_parent: The ID of the parent post, for attachments or hierarchical post types.\n",
        "\n",
        "guid: Globally unique identifier for the post.\n",
        "\n",
        "menu_order: Order for the post within a menu.\n",
        "\n",
        "post_type: The type of post (e.g., post, page, custom types like attorney).\n",
        "\n",
        "post_mime_type: MIME type if the post is an attachment.\n",
        "\n",
        "comment_count: The number of comments on the post."
      ]
    },
    {
      "cell_type": "markdown",
      "metadata": {
        "id": "HC8LVoqrkjCL"
      },
      "source": [
        "# **Exploratory Data Analysis**"
      ]
    },
    {
      "cell_type": "markdown",
      "metadata": {
        "id": "2VPKpzYvksBT"
      },
      "source": [
        "## **cdocs_case_meta_index**\n",
        "There are 50 types of cases, like 'Supplementary Process', 'Small Claims', etc.\n",
        "\n",
        "There are 24 kinds of case status, like 'Disposed', 'Open', etc.\n",
        "\n",
        "## **cdocs_party_assignment_index**\n",
        "There are 63 types of parties in all cases, like 'Defendant', 'Plaintiff', etc.\n",
        "\n",
        "There are 59230 different attornies assigned to all parties, i.e., 59230 different attornies assigned to the parties.\n",
        "\n",
        "111 different court terms took place during which the cases were being heard.\n",
        "\n",
        "## **cdocs_party_index**\n",
        "\n",
        "There were 3890144 missing/null values in party_initials, so we decided to drop this column. Because party_name itself gives information about the party's name and there was no such data where we realized that party_initials was being used."
      ]
    },
    {
      "cell_type": "markdown",
      "metadata": {
        "id": "HITzX21Vq30d"
      },
      "source": [
        "# **Note Points**\n",
        "The 'cdocs_case_action_index' and 'wp_posts' table is very large (around 75 million rows) and it is not possible to display it as dataframe and do pandas data analysis on it."
      ]
    },
    {
      "cell_type": "code",
      "execution_count": null,
      "metadata": {
        "colab": {
          "background_save": true
        },
        "id": "lIpFxE6wLq1J"
      },
      "outputs": [],
      "source": [
        "case_type_counts = case_meta_df['case_type'].value_counts()\n",
        "\n",
        "# Convert frequencies to percentages\n",
        "total_cases = case_type_counts.sum()\n",
        "case_type_percentages = (case_type_counts / total_cases) * 100\n",
        "\n",
        "# Select the top 50 types by frequency for plotting\n",
        "top_50_case_type_percentages = case_type_percentages.nlargest(50)\n",
        "\n",
        "# Plotting the bar chart\n",
        "plt.figure(figsize=(12, 8))\n",
        "top_50_case_type_percentages.plot(kind='bar', color='skyblue')\n",
        "plt.title('Case Types by Percentage of Total Cases')\n",
        "plt.xlabel('Case Type')\n",
        "plt.ylabel('Percentage of Total Cases')\n",
        "plt.xticks(rotation=90)  # Rotate the x-axis labels for better readability\n",
        "plt.tight_layout()  # Adjust layout\n",
        "plt.show()"
      ]
    },
    {
      "cell_type": "code",
      "execution_count": null,
      "metadata": {
        "colab": {
          "background_save": true
        },
        "id": "HkD3XvNkY1Wg"
      },
      "outputs": [],
      "source": [
        "case_status_counts = case_meta_df['case_status'].value_counts()\n",
        "\n",
        "total_cases = case_status_counts.sum()\n",
        "case_status_percentages = (case_status_counts / total_cases) * 100\n",
        "\n",
        "plt.figure(figsize=(12, 8))\n",
        "case_status_percentages.plot(kind='bar', color='red')\n",
        "plt.title('Case Status by Percentage of Total Cases')\n",
        "plt.xlabel('Case Status')\n",
        "plt.ylabel('Percentage of Total Cases (%)')\n",
        "plt.xticks(rotation=90)  # Rotate the x-axis labels for better readability\n",
        "plt.tight_layout()  # Adjust layout\n",
        "plt.show()"
      ]
    },
    {
      "cell_type": "markdown",
      "metadata": {
        "id": "pMyfbd_J3djq"
      },
      "source": [
        "# **Question 1 - How many cases have been filed each year over the last ten years in each court?**"
      ]
    },
    {
      "cell_type": "code",
      "execution_count": null,
      "metadata": {
        "colab": {
          "background_save": true
        },
        "id": "mYzlHmHju9SA"
      },
      "outputs": [],
      "source": [
        "\n",
        "def parse_date(date_str):\n",
        "    try:\n",
        "        return pd.to_datetime(date_str, format='%Y%m%d')\n",
        "    except ValueError:\n",
        "        # Return None or a default date if the format is incorrect\n",
        "        return None\n",
        "\n",
        "\n",
        "df['file_date'] = df['file_date'].apply(parse_date)\n",
        "\n",
        "# Drop rows where 'file_date' is None (invalid dates)\n",
        "df = df.dropna(subset=['file_date'])\n",
        "\n",
        "# Extracting the year from the 'file_date'\n",
        "df['file_year'] = df['file_date'].dt.year\n",
        "\n",
        "# Counting the number of cases filed each year, summing across all court terms\n",
        "case_counts = df.groupby('file_year').size().reset_index(name='case_count')\n",
        "\n",
        "# Filter for the last ten years\n",
        "recent_years = case_counts['file_year'].max() - 10\n",
        "recent_case_counts = case_counts[case_counts['file_year'] > recent_years]\n",
        "\n",
        "\n",
        "print(recent_case_counts)"
      ]
    },
    {
      "cell_type": "code",
      "execution_count": null,
      "metadata": {
        "colab": {
          "background_save": true
        },
        "id": "oQjrgQWnFYCv"
      },
      "outputs": [],
      "source": [
        "import matplotlib.pyplot as plt\n",
        "import pandas as pd\n",
        "\n",
        "# Given data\n",
        "data = {\n",
        "    'file_year': [2015, 2016, 2017, 2018, 2019, 2020, 2021, 2022, 2023, 2024],\n",
        "    'case_count': [249336, 212631, 204275, 203849, 204445, 124730, 170731, 170498, 208288, 30787]\n",
        "}\n",
        "df = pd.DataFrame(data)\n",
        "\n",
        "# Plot 1: Line plot showing trend of cases filed each year\n",
        "plt.figure(figsize=(10, 6))\n",
        "plt.plot(df['file_year'], df['case_count'], marker='o', linestyle='-', color='b')\n",
        "plt.title('Cases Filed Each Year Over the Last Ten Years')\n",
        "plt.xlabel('Year')\n",
        "plt.ylabel('Number of Cases Filed')\n",
        "plt.grid(True)\n",
        "plt.xticks(df['file_year'])  # Ensure all years are shown\n",
        "plt.tight_layout()\n",
        "\n",
        "plt.show()\n",
        "\n",
        "# Plot 2: Bar plot showing the number of cases filed each year\n",
        "plt.figure(figsize=(10, 6))\n",
        "plt.bar(df['file_year'], df['case_count'], color='skyblue')\n",
        "plt.title('Cases Filed Each Year Over the Last Ten Years')\n",
        "plt.xlabel('Year')\n",
        "plt.ylabel('Number of Cases Filed')\n",
        "plt.xticks(df['file_year'])  # Ensure all years are shown\n",
        "plt.tight_layout()\n",
        "\n",
        "plt.show()\n"
      ]
    },
    {
      "cell_type": "markdown",
      "metadata": {
        "id": "NbxBZl5h3uAY"
      },
      "source": [
        "# **Answer 1:**\n",
        "![image.png](data:image/png;base64,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)"
      ]
    },
    {
      "cell_type": "code",
      "execution_count": null,
      "metadata": {
        "colab": {
          "background_save": true
        },
        "id": "Ep1BHFuF1731"
      },
      "outputs": [],
      "source": [
        "\n",
        "unique_party_types = party_assignment_df['party_type'].unique()\n",
        "\n",
        "print(unique_party_types)"
      ]
    },
    {
      "cell_type": "markdown",
      "metadata": {
        "id": "QY1ecYH8D2we"
      },
      "source": [
        "# **Question 2 - Who are the debt collectors?**"
      ]
    },
    {
      "cell_type": "code",
      "execution_count": null,
      "metadata": {
        "colab": {
          "background_save": true
        },
        "id": "TCIHetLl2qXA"
      },
      "outputs": [],
      "source": [
        "\n",
        "# Filter party_assignment for plaintiffs\n",
        "plaintiffs = party_assignment_df[party_assignment_df['party_type'] == 'Plaintiff']\n",
        "\n",
        "# Merge with party_index to get party names\n",
        "plaintiff_names = pd.merge(plaintiffs, party_index_df, left_on='party_id', right_on='post_id', how='left')\n",
        "\n",
        "# Select relevant columns and drop duplicates to see unique plaintiff names\n",
        "unique_plaintiffs = plaintiff_names[['party_name']].drop_duplicates()\n",
        "plaintiff_names_array = unique_plaintiffs['party_name'].tolist()\n",
        "plaintiff_names_str = \"\\n\".join(plaintiff_names_array)\n",
        "file_path = '/unique_plaintiff_names.txt'\n",
        "with open(file_path, 'w') as file:\n",
        "    file.write(plaintiff_names_str)\n",
        "\n",
        "print(len(plaintiff_names_array))"
      ]
    },
    {
      "cell_type": "markdown",
      "metadata": {
        "id": "MwEBiv-5C7vU"
      },
      "source": [
        "# **Answer 2**\n",
        "There are total 1139771 debt collectors, assuming \"Plaintiff\" represents debt collectors. The link to the file containing names of all the debt collectors:\n",
        "https://drive.google.com/file/d/1s6575UrxAaryvXIxTa5Zrw-MfgPiMbgr/view?usp=drive_link"
      ]
    }
  ],
  "metadata": {
    "colab": {
      "provenance": []
    },
    "kernelspec": {
      "display_name": "Python 3",
      "name": "python3"
    },
    "language_info": {
      "name": "python"
    }
  },
  "nbformat": 4,
  "nbformat_minor": 0
}